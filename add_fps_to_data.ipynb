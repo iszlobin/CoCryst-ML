{
 "cells": [
  {
   "cell_type": "code",
   "execution_count": null,
   "id": "b1b132f4-cde5-4a3e-b1a0-d7f4b3ccb272",
   "metadata": {},
   "outputs": [],
   "source": [
    "import pandas as pd"
   ]
  },
  {
   "cell_type": "code",
   "execution_count": null,
   "id": "fce15e27-f677-499c-a67e-56ca2ed74a41",
   "metadata": {},
   "outputs": [],
   "source": [
    "train_df = pd.read_csv('data/processed/train.csv', index_col=0)\n",
    "test_df = pd.read_csv('data/processed/test.csv', index_col=0)"
   ]
  },
  {
   "cell_type": "code",
   "execution_count": null,
   "id": "278c2573-e81c-4dac-8d04-813704a3e131",
   "metadata": {},
   "outputs": [],
   "source": [
    "from src.generate_FPs import custom_featurize"
   ]
  },
  {
   "cell_type": "code",
   "execution_count": null,
   "id": "168b84f0-3081-4c8f-8fe5-3cabc634a77e",
   "metadata": {
    "scrolled": true
   },
   "outputs": [],
   "source": [
    "test_df_fps = custom_featurize(test_df, ['A', 'B', 'G'],\n",
    "                 mode = ['rdkit']\n",
    "                 )"
   ]
  },
  {
   "cell_type": "code",
   "execution_count": null,
   "id": "b0d3f65c-c324-49df-bc7d-e922495c1ba7",
   "metadata": {
    "scrolled": true
   },
   "outputs": [],
   "source": [
    "train_df_fps = custom_featurize(train_df, ['A', 'B', 'G'],\n",
    "                 mode = ['rdkit']\n",
    "                 )"
   ]
  },
  {
   "cell_type": "code",
   "execution_count": null,
   "id": "8b7c9cdf-d71c-4850-9712-59d0dbb4eba4",
   "metadata": {},
   "outputs": [],
   "source": [
    "import pickle"
   ]
  },
  {
   "cell_type": "code",
   "execution_count": null,
   "id": "d5fc242f-63c1-4567-8583-7c29f203e4ba",
   "metadata": {},
   "outputs": [],
   "source": [
    "with open('data/processed/test_w_fp.pickle', 'wb') as handle:\n",
    "    pickle.dump(test_df_fps, handle, protocol=pickle.HIGHEST_PROTOCOL)"
   ]
  },
  {
   "cell_type": "code",
   "execution_count": null,
   "id": "8b6ca4d5-b90b-445b-97f5-f309199ee055",
   "metadata": {},
   "outputs": [],
   "source": [
    "with open('data/processed/train_w_fp.pickle', 'wb') as handle:\n",
    "    pickle.dump(train_df_fps, handle, protocol=pickle.HIGHEST_PROTOCOL)"
   ]
  }
 ],
 "metadata": {
  "kernelspec": {
   "display_name": "new_chemberta_env-kernel",
   "language": "python",
   "name": "new_chemberta_env-kernel"
  },
  "language_info": {
   "codemirror_mode": {
    "name": "ipython",
    "version": 3
   },
   "file_extension": ".py",
   "mimetype": "text/x-python",
   "name": "python",
   "nbconvert_exporter": "python",
   "pygments_lexer": "ipython3",
   "version": "3.8.20"
  }
 },
 "nbformat": 4,
 "nbformat_minor": 5
}
