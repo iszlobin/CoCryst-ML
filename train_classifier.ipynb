{
 "cells": [
  {
   "cell_type": "code",
   "execution_count": null,
   "id": "ab1feaa9-af2c-437d-be5a-a26e68d1183d",
   "metadata": {},
   "outputs": [],
   "source": [
    "import pickle\n",
    "from src.aggregate_threes import abg_aggregate\n",
    "from src.classifier_model import train_optuna_XGB"
   ]
  },
  {
   "cell_type": "code",
   "execution_count": null,
   "id": "a0a556e8-76c3-43e4-9d9f-ae6f368dbd4a",
   "metadata": {},
   "outputs": [],
   "source": [
    "with open('data/processed/train_w_fp.pickle', 'rb') as handle:\n",
    "    train_df = pickle.load(handle)"
   ]
  },
  {
   "cell_type": "code",
   "execution_count": null,
   "id": "a64542c6-059f-4d27-a1d0-c44ef2609d49",
   "metadata": {},
   "outputs": [],
   "source": [
    "agg_method = 'concat'\n",
    "\n",
    "a = abg_aggregate(train_df, agg = agg_method)\n",
    "for key in a.keys():\n",
    "    train_df[f'{agg_method}_{key}'] = a[key]"
   ]
  },
  {
   "cell_type": "code",
   "execution_count": null,
   "id": "f81ae8ad-2530-4776-b283-3fc28431f7de",
   "metadata": {},
   "outputs": [],
   "source": [
    "feature_columns = [s for s in train.columns if agg_method in s]\n",
    "target_column = 'cryst'"
   ]
  },
  {
   "cell_type": "code",
   "execution_count": null,
   "id": "4404912e-8d0b-4e64-be86-04fdaea1563e",
   "metadata": {},
   "outputs": [],
   "source": [
    "X = {}\n",
    "for feature in feature_columns:\n",
    "    X[feature] = [x for x in train_df[feature]] \n",
    "y = train_df[target_column]"
   ]
  },
  {
   "cell_type": "code",
   "execution_count": null,
   "id": "2acdba89-13f4-4a59-8c35-2501d04da0c7",
   "metadata": {},
   "outputs": [],
   "source": [
    "for feature in feature_columns:\n",
    "    train_optuna_XGB(X[feature], y, feature)"
   ]
  }
 ],
 "metadata": {
  "kernelspec": {
   "display_name": "new_chemberta_env-kernel",
   "language": "python",
   "name": "new_chemberta_env-kernel"
  },
  "language_info": {
   "codemirror_mode": {
    "name": "ipython",
    "version": 3
   },
   "file_extension": ".py",
   "mimetype": "text/x-python",
   "name": "python",
   "nbconvert_exporter": "python",
   "pygments_lexer": "ipython3",
   "version": "3.8.20"
  }
 },
 "nbformat": 4,
 "nbformat_minor": 5
}
