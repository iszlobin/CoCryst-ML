{
 "cells": [
  {
   "cell_type": "code",
   "execution_count": 1,
   "id": "f812e95b-34ba-46f7-8cb5-1d1d4f4f220e",
   "metadata": {},
   "outputs": [],
   "source": [
    "import pickle\n",
    "from src.aggregate_threes import abg_aggregate\n",
    "import numpy as np"
   ]
  },
  {
   "cell_type": "code",
   "execution_count": 2,
   "id": "7c5b7b7c-c4a7-4dfd-8990-a9bb429eb421",
   "metadata": {},
   "outputs": [],
   "source": [
    "with open('data/processed/test_w_fp.pickle', 'rb') as handle:\n",
    "    test = pickle.load(handle)"
   ]
  },
  {
   "cell_type": "code",
   "execution_count": 3,
   "id": "e5ee9b15-7d63-4225-b990-457a69cf4314",
   "metadata": {},
   "outputs": [],
   "source": [
    "agg_method = 'concat'\n",
    "\n",
    "a = abg_aggregate(test, agg = agg_method)\n",
    "for key in a.keys():\n",
    "    test[f'{agg_method}_{key}'] = a[key]"
   ]
  },
  {
   "cell_type": "code",
   "execution_count": 7,
   "id": "6003414f-3ea6-49ae-a3b2-8a1cbdf66616",
   "metadata": {},
   "outputs": [],
   "source": [
    "feature_columns = [s for s in test.columns if agg_method in s]\n",
    "target_column = 'cryst'"
   ]
  },
  {
   "cell_type": "code",
   "execution_count": 9,
   "id": "3b4a53e3-cbd5-481a-9b71-66f43dbeea05",
   "metadata": {},
   "outputs": [],
   "source": [
    "X = {}\n",
    "for feature in feature_columns:\n",
    "    X[feature] = [x for x in test[feature]] \n",
    "y = test[target_column]"
   ]
  },
  {
   "cell_type": "code",
   "execution_count": 11,
   "id": "124ad4de-7b2b-4596-8044-e8d03f80622e",
   "metadata": {},
   "outputs": [],
   "source": [
    "y_pred = {}\n",
    "y_pred_proba = {}\n",
    "for feature in feature_columns:\n",
    "    with open(f'saved_models/{feature}_xgb_model.pkl', 'rb') as handle:\n",
    "        clf = pickle.load(handle)\n",
    "\n",
    "\n",
    "    a = np.array(X[feature])\n",
    "    \n",
    "    y_pred[feature] = clf.predict(a)\n",
    "    y_pred_proba[feature] = clf.predict_proba(a)\n",
    "    y_probs = [x[1] for x in y_pred_proba[feature]]\n",
    "\n",
    "    pred_file = f'predictions/{feature}_pred.pkl'  \n",
    "    with open(pred_file, 'wb') as handle:  \n",
    "        pickle.dump(y_pred[feature], handle)\n",
    "        \n",
    "    pred_prob_file = f'predictions/{feature}_pred_proba.pkl'  \n",
    "    with open(pred_prob_file, 'wb') as handle:  \n",
    "        pickle.dump(y_probs, handle)"
   ]
  },
  {
   "cell_type": "code",
   "execution_count": 12,
   "id": "b74fb9c9-5b20-448d-8a04-e44a72ae2806",
   "metadata": {},
   "outputs": [],
   "source": [
    "from sklearn.metrics import confusion_matrix, ConfusionMatrixDisplay, f1_score, roc_auc_score\n",
    "import matplotlib.pyplot as plt"
   ]
  },
  {
   "cell_type": "code",
   "execution_count": 13,
   "id": "f2b3133f-bae6-4e49-bbe3-9f5af32c94c3",
   "metadata": {},
   "outputs": [
    {
     "name": "stdout",
     "output_type": "stream",
     "text": [
      "Prediction with concat_rdkit: F1 - 0.5882352941176471, ROC-AUC - 0.8793103448275862\n"
     ]
    },
    {
     "data": {
      "image/png": "[encoded data removed]",
      "text/plain": [
       "<Figure size 640x480 with 2 Axes>"
      ]
     },
     "metadata": {},
     "output_type": "display_data"
    }
   ],
   "source": [
    "for feature in feature_columns:\n",
    "    with open(f'predictions/{feature}_pred.pkl', 'rb') as handle:\n",
    "        y_pred = pickle.load(handle)\n",
    "    print(f'Prediction with {feature}: F1 - {f1_score(y, y_pred)}, ROC-AUC - {roc_auc_score(y, y_pred)}')\n",
    "    conf = ConfusionMatrixDisplay(confusion_matrix(y, y_pred))\n",
    "    conf.plot()"
   ]
  }
 ],
 "metadata": {
  "kernelspec": {
   "display_name": "polygpt_kernel",
   "language": "python",
   "name": "polygpt_kernel"
  },
  "language_info": {
   "codemirror_mode": {
    "name": "ipython",
    "version": 3
   },
   "file_extension": ".py",
   "mimetype": "text/x-python",
   "name": "python",
   "nbconvert_exporter": "python",
   "pygments_lexer": "ipython3",
   "version": "3.8.20"
  }
 },
 "nbformat": 4,
 "nbformat_minor": 5
}
