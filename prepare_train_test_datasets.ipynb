{
 "cells": [
  {
   "cell_type": "markdown",
   "metadata": {},
   "source": [
    "## Filter solvents"
   ]
  },
  {
   "cell_type": "code",
   "execution_count": null,
   "metadata": {},
   "outputs": [],
   "source": [
    "import pandas as pd "
   ]
  },
  {
   "cell_type": "code",
   "execution_count": null,
   "metadata": {},
   "outputs": [],
   "source": [
    "def filter_solvents(df):\n",
    "    solvents = []\n",
    "    with open('data/raw/solvents.txt', 'r') as file:\n",
    "        for line in file:\n",
    "            solvents.append(line.strip('\\n'))\n",
    "    df_filtered = df[df.G.isin(solvents) == False].copy()\n",
    "    if 'Unnamed: 0' in df_filtered.columns:\n",
    "        df_filtered = df_filtered.drop(columns = 'Unnamed: 0')\n",
    "    print(f'Removed {df.shape[0] - df_filtered.shape[0]} rows with solvent guests')\n",
    "    return df_filtered"
   ]
  },
  {
   "cell_type": "code",
   "execution_count": null,
   "metadata": {},
   "outputs": [],
   "source": [
    "csd_df = pd.read_csv('data/raw/csd.csv')\n",
    "exp_df = pd.read_csv('data/raw/exp.csv')"
   ]
  },
  {
   "cell_type": "code",
   "execution_count": null,
   "metadata": {},
   "outputs": [],
   "source": [
    "csd_df['cryst'] = 1"
   ]
  },
  {
   "cell_type": "code",
   "execution_count": null,
   "metadata": {},
   "outputs": [],
   "source": [
    "csd_filtered = filter_solvents(csd_df)"
   ]
  },
  {
   "cell_type": "code",
   "execution_count": null,
   "metadata": {},
   "outputs": [],
   "source": [
    "exp_filtered = filter_solvents(exp_df)"
   ]
  },
  {
   "cell_type": "markdown",
   "metadata": {},
   "source": [
    "## Filter SMILES not converting to .mol"
   ]
  },
  {
   "cell_type": "code",
   "execution_count": null,
   "metadata": {},
   "outputs": [],
   "source": [
    "from rdkit import Chem\n",
    "from rdkit.Chem import PandasTools"
   ]
  },
  {
   "cell_type": "code",
   "execution_count": null,
   "metadata": {},
   "outputs": [],
   "source": [
    "def filter_incorrect_smiles(df):\n",
    "    df_filtered = df.copy()\n",
    "    target_columns = ['A','B','G']\n",
    "    for col in target_columns:\n",
    "        PandasTools.AddMoleculeColumnToFrame(df_filtered, smilesCol=col, molCol = col + '_mol')\n",
    "    df_filtered = df_filtered.drop_duplicates()\n",
    "    print(f'Removed {df.shape[0] - df_filtered.shape[0]} duplicates')\n",
    "    df_filtered = df_filtered.dropna()\n",
    "    print(f'Removed {df.shape[0] - df_filtered.shape[0]} incorrect SMILES')\n",
    "    return df_filtered.reset_index(drop=True)"
   ]
  },
  {
   "cell_type": "code",
   "execution_count": null,
   "metadata": {},
   "outputs": [],
   "source": [
    "csd_filtered = filter_incorrect_smiles(csd_filtered)"
   ]
  },
  {
   "cell_type": "code",
   "execution_count": null,
   "metadata": {
    "scrolled": true
   },
   "outputs": [],
   "source": [
    "exp_filtered = filter_incorrect_smiles(exp_filtered)"
   ]
  },
  {
   "cell_type": "markdown",
   "metadata": {},
   "source": [
    "# Create negatives for train"
   ]
  },
  {
   "cell_type": "code",
   "execution_count": null,
   "metadata": {},
   "outputs": [],
   "source": [
    "import numpy as np\n",
    "import seaborn as sns\n",
    "from itertools import combinations\n",
    "\n",
    "from rdkit import Chem\n",
    "from rdkit.Chem import rdFingerprintGenerator\n",
    "from rdkit.Chem import PandasTools\n",
    "from rdkit import DataStructs"
   ]
  },
  {
   "cell_type": "code",
   "execution_count": null,
   "metadata": {},
   "outputs": [],
   "source": [
    "a = csd_filtered['A'].unique()\n",
    "b = csd_filtered['B'].unique()\n",
    "g = csd_filtered['G'].unique()\n",
    "print(f'Unique amins: {len(a)}, unique sulfoacids: {len(b)}, unique guests: {len(g)}') "
   ]
  },
  {
   "cell_type": "code",
   "execution_count": null,
   "metadata": {},
   "outputs": [],
   "source": [
    "abg_dict = {'unique_amins' : a, 'unique_sulfoacids': b, 'unique_guests' : g}\n",
    "unique_df = pd.DataFrame.from_dict(abg_dict, orient='index')\n",
    "unique_df = unique_df.transpose()"
   ]
  },
  {
   "cell_type": "markdown",
   "metadata": {},
   "source": [
    "### Analyze similarities"
   ]
  },
  {
   "cell_type": "code",
   "execution_count": null,
   "metadata": {},
   "outputs": [],
   "source": [
    "fp_radius = 4 #to include large fragments\n",
    "fp_n_bits = 1024\n",
    "fps = {}"
   ]
  },
  {
   "cell_type": "code",
   "execution_count": null,
   "metadata": {},
   "outputs": [],
   "source": [
    "fpg = rdFingerprintGenerator.GetMorganGenerator(radius = fp_radius, fpSize=fp_n_bits)\n",
    "\n",
    "fps['A'] = [fpg.GetFingerprint(Chem.MolFromSmiles(smiles)) for smiles in a]\n",
    "fps['B'] = [fpg.GetFingerprint(Chem.MolFromSmiles(smiles)) for smiles in b]\n",
    "fps['G'] = [fpg.GetFingerprint(Chem.MolFromSmiles(smiles)) for smiles in g]"
   ]
  },
  {
   "cell_type": "code",
   "execution_count": null,
   "metadata": {},
   "outputs": [],
   "source": [
    "def calculate_similarities_within(fingerprints):\n",
    "    similarity_scores = []\n",
    "    for fp1, fp2 in combinations(fingerprints, 2):\n",
    "        similarity_score = DataStructs.TanimotoSimilarity(fp1, fp2)\n",
    "        similarity_scores.append(similarity_score)\n",
    "    return similarity_scores"
   ]
  },
  {
   "cell_type": "code",
   "execution_count": null,
   "metadata": {},
   "outputs": [],
   "source": [
    "similarity = {}\n",
    "for key in fps.keys():\n",
    "    similarity[key] = calculate_similarities_within(fps[key])"
   ]
  },
  {
   "cell_type": "code",
   "execution_count": null,
   "metadata": {},
   "outputs": [],
   "source": [
    "q = 0.5\n",
    "threshold = {'A' : np.quantile(similarity['A'], q), 'B' : np.quantile(similarity['B'], q), 'G' : np.quantile(similarity['G'], q)}"
   ]
  },
  {
   "cell_type": "markdown",
   "metadata": {},
   "source": [
    "### Create negatives from dataframe"
   ]
  },
  {
   "cell_type": "markdown",
   "metadata": {},
   "source": [
    "Negatives are formed via replacing **guest** with not similar molecule"
   ]
  },
  {
   "cell_type": "code",
   "execution_count": null,
   "metadata": {},
   "outputs": [],
   "source": [
    "import random"
   ]
  },
  {
   "cell_type": "code",
   "execution_count": null,
   "metadata": {},
   "outputs": [],
   "source": [
    "def find_not_similar(smiles_list, fp, thresh):\n",
    "    smiles = random.choice(smiles_list)\n",
    "    mol = Chem.MolFromSmiles(smiles)\n",
    "    fp2 = fpg.GetFingerprint(mol)\n",
    "    \n",
    "    while DataStructs.TanimotoSimilarity(fp, fp2) > thresh:\n",
    "        smiles = random.choice(smiles_list)\n",
    "        mol = Chem.MolFromSmiles(smiles)\n",
    "        fp2 = fpg.GetFingerprint(mol)\n",
    "        \n",
    "    return smiles, mol"
   ]
  },
  {
   "cell_type": "code",
   "execution_count": null,
   "metadata": {},
   "outputs": [],
   "source": [
    "def replace_guest(df, g, thresh, fpg, amount = 1000):\n",
    "    new_df = df.sample(n = amount, replace=True).reset_index(drop=True).copy()\n",
    "    rows_list = []\n",
    "    \n",
    "    for index, row in new_df.iterrows():\n",
    "        fp1 = fpg.GetFingerprint(row['G_mol'])\n",
    "        row['G'], row['G_mol'] = find_not_similar(g, fp1, thresh['G'])\n",
    "        row['cryst'] = 0\n",
    "        rows_list.append(row)\n",
    "        \n",
    "    return pd.DataFrame(rows_list)"
   ]
  },
  {
   "cell_type": "code",
   "execution_count": null,
   "metadata": {},
   "outputs": [],
   "source": [
    "neg_df = pd.DataFrame()\n",
    "neg_df = pd.concat([neg_df, replace_guest(csd_filtered, csd_filtered['G'].unique(), threshold, fpg, 1000)])"
   ]
  },
  {
   "cell_type": "markdown",
   "metadata": {},
   "source": [
    "# Save train and test datasets"
   ]
  },
  {
   "cell_type": "code",
   "execution_count": null,
   "metadata": {},
   "outputs": [],
   "source": [
    "train_df = pd.concat([neg_df, csd_filtered]).reset_index(drop=True).drop(columns = ['A_mol', 'B_mol', 'G_mol'])"
   ]
  },
  {
   "cell_type": "code",
   "execution_count": null,
   "metadata": {},
   "outputs": [],
   "source": [
    "train_df.to_csv('data/processed/train.csv') #cryst < 1 means negative sample"
   ]
  },
  {
   "cell_type": "code",
   "execution_count": null,
   "metadata": {},
   "outputs": [],
   "source": [
    "test_df = exp_filtered.reset_index(drop=True).drop(columns = ['A_mol', 'B_mol', 'G_mol'])"
   ]
  },
  {
   "cell_type": "code",
   "execution_count": null,
   "metadata": {},
   "outputs": [],
   "source": [
    "test_df.to_csv('data/processed/test.csv') #cryst < 1 means negative sample"
   ]
  }
 ],
 "metadata": {
  "accelerator": "GPU",
  "colab": {
   "provenance": []
  },
  "kernelspec": {
   "display_name": "new_chemberta_env-kernel",
   "language": "python",
   "name": "new_chemberta_env-kernel"
  },
  "language_info": {
   "codemirror_mode": {
    "name": "ipython",
    "version": 3
   },
   "file_extension": ".py",
   "mimetype": "text/x-python",
   "name": "python",
   "nbconvert_exporter": "python",
   "pygments_lexer": "ipython3",
   "version": "3.8.20"
  }
 },
 "nbformat": 4,
 "nbformat_minor": 4
}
